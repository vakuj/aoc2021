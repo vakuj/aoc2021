{
 "cells": [
  {
   "cell_type": "code",
   "execution_count": 1,
   "metadata": {},
   "outputs": [],
   "source": [
    "import numpy as np"
   ]
  },
  {
   "cell_type": "code",
   "execution_count": 13,
   "metadata": {},
   "outputs": [],
   "source": [
    "\n",
    "def load_data(filename,delim=\",\"):\n",
    "    with open(filename,\"r\") as f:\n",
    "        d_str= f.readlines()\n",
    "\n",
    "\n",
    "    data = []\n",
    "    for d in d_str:\n",
    "        for i in d.split(delim):\n",
    "            data.append(int(i))\n",
    "    return data    \n",
    "    \n",
    "\n",
    "def printdata(data):\n",
    "    ctr =0\n",
    "\n",
    "    for i, d in enumerate(data):\n",
    "        if i%10 == 0:\n",
    "            print(f\"\\n{ctr:4d}: \",end=\"\")\n",
    "            ctr +=10\n",
    "        print(f\"{d:4d}, \",end=\"\")\n",
    "    print()\n",
    "\n",
    "\n",
    "def check_fuel(data,const_rate =True):\n",
    "    max_val = np.max(data)\n",
    "    fuel_costs = np.zeros((max_val,))\n",
    "    for i in range(max_val):\n",
    "        fuel_cost = np.zeros((len(data),))\n",
    "        for j,d in enumerate(data): \n",
    "            if const_rate:\n",
    "                fuel_cost[j] = np.abs(d-i)\n",
    "            else:\n",
    "                costs = np.arange(0,np.abs(d-i)+1,step=1)\n",
    "                fuel_cost[j] = np.sum(costs)\n",
    "        fuel_costs[i] = np.sum(fuel_cost)\n",
    "\n",
    "    return fuel_costs\n"
   ]
  },
  {
   "cell_type": "code",
   "execution_count": 16,
   "metadata": {},
   "outputs": [
    {
     "name": "stdout",
     "output_type": "stream",
     "text": [
      "353800.0\n",
      "98119739.0\n"
     ]
    }
   ],
   "source": [
    "\n",
    "filename = \"input\"\n",
    "data = load_data(filename)\n",
    "fuel_costs = check_fuel(data,True)\n",
    "\n",
    "print(np.min(fuel_costs))\n",
    "\n",
    "\n",
    "fuel_costs = check_fuel(data,False)\n",
    "print(np.min(fuel_costs))\n"
   ]
  }
 ],
 "metadata": {
  "interpreter": {
   "hash": "916dbcbb3f70747c44a77c7bcd40155683ae19c65e1c03b4aa3499c5328201f1"
  },
  "kernelspec": {
   "display_name": "Python 3.8.10 64-bit",
   "language": "python",
   "name": "python3"
  },
  "language_info": {
   "codemirror_mode": {
    "name": "ipython",
    "version": 3
   },
   "file_extension": ".py",
   "mimetype": "text/x-python",
   "name": "python",
   "nbconvert_exporter": "python",
   "pygments_lexer": "ipython3",
   "version": "3.8.10"
  },
  "orig_nbformat": 4
 },
 "nbformat": 4,
 "nbformat_minor": 2
}
